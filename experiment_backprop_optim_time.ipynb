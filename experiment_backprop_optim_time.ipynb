{
 "cells": [
  {
   "cell_type": "code",
   "execution_count": 122,
   "id": "8ab541d3",
   "metadata": {},
   "outputs": [],
   "source": [
    "import torch\n",
    "import torch.optim as optim\n",
    "import torch.nn as nn\n",
    "import time\n",
    "import numpy as np"
   ]
  },
  {
   "cell_type": "code",
   "execution_count": 123,
   "id": "8dbc5510",
   "metadata": {},
   "outputs": [],
   "source": [
    "class FCnet(nn.Module):\n",
    "    def __init__(self, in_dim, out_dim, hid_dim):\n",
    "        super().__init__()\n",
    "        self.model = nn.Sequential(\n",
    "          nn.Linear(in_dim, hid_dim),\n",
    "          nn.ReLU(),\n",
    "          nn.Linear(hid_dim, hid_dim),\n",
    "          nn.ReLU(),\n",
    "          nn.Linear(hid_dim, out_dim)\n",
    "        )\n",
    "    def forward(self, x):\n",
    "        return self.model(x)"
   ]
  },
  {
   "cell_type": "code",
   "execution_count": 124,
   "id": "6b3d975e",
   "metadata": {},
   "outputs": [],
   "source": [
    "fcnet = FCnet(4, 1, 4096)\n",
    "Loss = nn.MSELoss()"
   ]
  },
  {
   "cell_type": "code",
   "execution_count": 125,
   "id": "3adca6d5",
   "metadata": {},
   "outputs": [
    {
     "name": "stdout",
     "output_type": "stream",
     "text": [
      "[1]\n"
     ]
    }
   ],
   "source": [
    "true_out = torch.Tensor([1])\n",
    "print(pred)"
   ]
  },
  {
   "cell_type": "code",
   "execution_count": 126,
   "id": "cc1d7dec",
   "metadata": {},
   "outputs": [],
   "source": [
    "input_state = torch.Tensor(([1,2,3,4]))"
   ]
  },
  {
   "cell_type": "code",
   "execution_count": 127,
   "id": "45a1e075",
   "metadata": {},
   "outputs": [
    {
     "name": "stdout",
     "output_type": "stream",
     "text": [
      "tensor([0.2098], grad_fn=<AddBackward0>)\n"
     ]
    }
   ],
   "source": [
    "pred_out = fcnet(input_state)\n",
    "print(pred_out)"
   ]
  },
  {
   "cell_type": "code",
   "execution_count": 128,
   "id": "7aa40897",
   "metadata": {},
   "outputs": [
    {
     "name": "stdout",
     "output_type": "stream",
     "text": [
      "None\n",
      "tensor(0.6245, grad_fn=<MseLossBackward>)\n",
      "\n"
     ]
    }
   ],
   "source": [
    "train_loss = Loss(pred_out, true_out)\n",
    "print(fcnet.model[0].weight.grad)\n",
    "print(train_loss)\n",
    "print()\n"
   ]
  },
  {
   "cell_type": "code",
   "execution_count": 129,
   "id": "f2363b29",
   "metadata": {},
   "outputs": [
    {
     "name": "stdout",
     "output_type": "stream",
     "text": [
      "Parameter containing:\n",
      "tensor([[ 0.3902, -0.0115, -0.0951,  0.1057],\n",
      "        [ 0.1454,  0.3483,  0.3746, -0.0201],\n",
      "        [ 0.0835,  0.0107, -0.3284, -0.1028],\n",
      "        ...,\n",
      "        [-0.4150,  0.0455,  0.1223, -0.4754],\n",
      "        [ 0.2356,  0.4852, -0.4895,  0.3020],\n",
      "        [ 0.3326, -0.2577,  0.2293,  0.1560]], requires_grad=True)\n",
      "Parameter containing:\n",
      "tensor([-0.1818,  0.2252,  0.4391,  ..., -0.3706,  0.2850,  0.0926],\n",
      "       requires_grad=True)\n",
      "Parameter containing:\n",
      "tensor([[ 0.0080, -0.0039, -0.0054,  ..., -0.0095, -0.0077, -0.0038],\n",
      "        [-0.0027, -0.0149, -0.0070,  ..., -0.0096, -0.0121, -0.0048],\n",
      "        [-0.0106,  0.0074, -0.0099,  ..., -0.0050,  0.0147,  0.0151],\n",
      "        ...,\n",
      "        [ 0.0004,  0.0014, -0.0103,  ...,  0.0074,  0.0037,  0.0043],\n",
      "        [ 0.0064, -0.0108,  0.0125,  ..., -0.0116,  0.0084, -0.0152],\n",
      "        [-0.0005, -0.0021, -0.0120,  ..., -0.0013,  0.0114,  0.0137]],\n",
      "       requires_grad=True)\n",
      "Parameter containing:\n",
      "tensor([-0.0104, -0.0150,  0.0014,  ...,  0.0048,  0.0039, -0.0123],\n",
      "       requires_grad=True)\n",
      "Parameter containing:\n",
      "tensor([[ 0.0051, -0.0112, -0.0098,  ..., -0.0067, -0.0144,  0.0097]],\n",
      "       requires_grad=True)\n",
      "Parameter containing:\n",
      "tensor([0.0152], requires_grad=True)\n"
     ]
    }
   ],
   "source": [
    "for i in range(len(fcnet.model)):\n",
    "    if str(fcnet.model[i]) != 'ReLU()':\n",
    "        print(fcnet.model[i].weight)\n",
    "        print(fcnet.model[i].bias)\n"
   ]
  },
  {
   "cell_type": "code",
   "execution_count": 130,
   "id": "4b99b24f",
   "metadata": {},
   "outputs": [],
   "source": [
    "start_time = time.time()\n",
    "train_loss.backward()\n",
    "grad_time = time.time() - start_time"
   ]
  },
  {
   "cell_type": "code",
   "execution_count": 131,
   "id": "f787d03d",
   "metadata": {},
   "outputs": [
    {
     "name": "stdout",
     "output_type": "stream",
     "text": [
      "ReLU()\n"
     ]
    }
   ],
   "source": [
    "print(str(fcnet.model[1]))"
   ]
  },
  {
   "cell_type": "code",
   "execution_count": 132,
   "id": "eb727057",
   "metadata": {},
   "outputs": [
    {
     "name": "stdout",
     "output_type": "stream",
     "text": [
      "tensor(0.6245, grad_fn=<MseLossBackward>)\n",
      "tensor([[-0.0012, -0.0024, -0.0035, -0.0047],\n",
      "        [-0.0043, -0.0086, -0.0129, -0.0172],\n",
      "        [ 0.0000,  0.0000,  0.0000,  0.0000],\n",
      "        ...,\n",
      "        [ 0.0000,  0.0000,  0.0000,  0.0000],\n",
      "        [-0.0041, -0.0082, -0.0123, -0.0163],\n",
      "        [-0.0074, -0.0148, -0.0222, -0.0296]])\n",
      "tensor([-0.0012, -0.0043,  0.0000,  ...,  0.0000, -0.0041, -0.0074])\n",
      "tensor([[ 0.0000,  0.0000,  0.0000,  ...,  0.0000,  0.0000,  0.0000],\n",
      "        [ 0.0057,  0.0375,  0.0000,  ...,  0.0000,  0.0219,  0.0217],\n",
      "        [ 0.0050,  0.0326,  0.0000,  ...,  0.0000,  0.0190,  0.0189],\n",
      "        ...,\n",
      "        [ 0.0000,  0.0000,  0.0000,  ...,  0.0000,  0.0000,  0.0000],\n",
      "        [ 0.0073,  0.0479,  0.0000,  ...,  0.0000,  0.0279,  0.0277],\n",
      "        [-0.0049, -0.0323, -0.0000,  ..., -0.0000, -0.0188, -0.0187]])\n",
      "tensor([ 0.0000,  0.0178,  0.0155,  ...,  0.0000,  0.0227, -0.0153])\n",
      "tensor([[ 0.0000, -0.6233, -2.0368,  ...,  0.0000, -0.5399, -0.6182]])\n",
      "tensor([-1.5805])\n"
     ]
    }
   ],
   "source": [
    "print(train_loss)\n",
    "for i in range(len(fcnet.model)):\n",
    "    if str(fcnet.model[i]) != 'ReLU()':\n",
    "        print(fcnet.model[i].weight.grad)\n",
    "        print(fcnet.model[i].bias.grad)\n",
    "\n",
    "\n"
   ]
  },
  {
   "cell_type": "code",
   "execution_count": 133,
   "id": "2418e6a2",
   "metadata": {},
   "outputs": [],
   "source": [
    "optim_net = optim.Adam(fcnet.parameters(), lr=0.001)"
   ]
  },
  {
   "cell_type": "code",
   "execution_count": 134,
   "id": "2399b003",
   "metadata": {},
   "outputs": [],
   "source": [
    "start_time = time.time()\n",
    "optim_net.step()\n",
    "optim_time = time.time() - start_time"
   ]
  },
  {
   "cell_type": "code",
   "execution_count": 135,
   "id": "58797fe6",
   "metadata": {},
   "outputs": [
    {
     "name": "stdout",
     "output_type": "stream",
     "text": [
      "Time taken for backpropagation: 0.04496192932128906, Time taken for optimisation: 0.13873577117919922\n"
     ]
    }
   ],
   "source": [
    "print(f\"Time taken for backpropagation: {grad_time}, Time taken for optimisation: {optim_time}\")"
   ]
  },
  {
   "cell_type": "code",
   "execution_count": 136,
   "id": "e23d7a26",
   "metadata": {},
   "outputs": [],
   "source": [
    "import matplotlib.pyplot as plt"
   ]
  },
  {
   "cell_type": "markdown",
   "id": "94309516",
   "metadata": {},
   "source": [
    "# Experiment for time taken for (1) backpropagation (2) optimization for different parameter size for fixed number of layers."
   ]
  },
  {
   "cell_type": "code",
   "execution_count": 145,
   "id": "78d86768",
   "metadata": {},
   "outputs": [],
   "source": [
    "def experiment(list_num_dim):\n",
    "    input_state = torch.Tensor(([1,2,3,4]))\n",
    "    Loss = nn.MSELoss()\n",
    "    true_out = torch.Tensor([1])\n",
    "    grad_times = []\n",
    "    optim_times = []\n",
    "    \n",
    "    for i, hid_dim in enumerate(list_num_dim):\n",
    "        fcnet = FCnet(4, 1, hid_dim)\n",
    "        pred_out = fcnet(input_state)\n",
    "        train_loss = Loss(pred_out, true_out)\n",
    "        start_time = time.time()\n",
    "        train_loss.backward()\n",
    "        grad_time = time.time() - start_time\n",
    "        start_time = time.time()\n",
    "        optim_net = optim.Adam(fcnet.parameters(), lr=0.001)\n",
    "        optim_net.step()\n",
    "        optim_time = time.time() - start_time\n",
    "        grad_times.append(grad_time)\n",
    "        optim_times.append(optim_time)\n",
    "    \n",
    "    fig, axs = plt.subplots(1, 2)\n",
    "    axs[0].plot(list_num_dim, grad_times)\n",
    "    axs[0].set_title('Backpropagation')\n",
    "    axs[1].plot(list_num_dim, optim_times)\n",
    "    axs[1].set_title('Optimization')\n",
    "    \n",
    "    fig.show()\n",
    "        \n",
    "        \n",
    "        \n",
    "    "
   ]
  },
  {
   "cell_type": "code",
   "execution_count": 151,
   "id": "f4a80869",
   "metadata": {},
   "outputs": [],
   "source": [
    "list_num_dim = [16, 64, 128, 1024, 4096, 10000, 20000, 30000]"
   ]
  },
  {
   "cell_type": "code",
   "execution_count": 152,
   "id": "fba6ad5a",
   "metadata": {},
   "outputs": [
    {
     "name": "stderr",
     "output_type": "stream",
     "text": [
      "/Users/seonginna/anaconda3/envs/swarmenv/lib/python3.7/site-packages/ipykernel_launcher.py:28: UserWarning: Matplotlib is currently using module://matplotlib_inline.backend_inline, which is a non-GUI backend, so cannot show the figure.\n"
     ]
    },
    {
     "data": {
      "image/png": "[encoded data removed]",
      "text/plain": [
       "<Figure size 432x288 with 2 Axes>"
      ]
     },
     "metadata": {
      "needs_background": "light"
     },
     "output_type": "display_data"
    }
   ],
   "source": [
    "experiment(list_num_dim)"
   ]
  },
  {
   "cell_type": "code",
   "execution_count": null,
   "id": "faf110dc",
   "metadata": {},
   "outputs": [],
   "source": []
  }
 ],
 "metadata": {
  "kernelspec": {
   "display_name": "Python 3 (ipykernel)",
   "language": "python",
   "name": "python3"
  },
  "language_info": {
   "codemirror_mode": {
    "name": "ipython",
    "version": 3
   },
   "file_extension": ".py",
   "mimetype": "text/x-python",
   "name": "python",
   "nbconvert_exporter": "python",
   "pygments_lexer": "ipython3",
   "version": "3.7.11"
  }
 },
 "nbformat": 4,
 "nbformat_minor": 5
}
